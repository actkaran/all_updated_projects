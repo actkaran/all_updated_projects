{
 "cells": [
  {
   "cell_type": "code",
   "execution_count": 12,
   "id": "85e57f52-fec9-4c88-bb75-ebed250316c9",
   "metadata": {},
   "outputs": [],
   "source": [
    "import pandas as pd\n",
    "import numpy as np"
   ]
  },
  {
   "cell_type": "code",
   "execution_count": 21,
   "id": "5def8536-6199-4f3a-afd9-51883e365847",
   "metadata": {},
   "outputs": [
    {
     "name": "stdout",
     "output_type": "stream",
     "text": [
      "{'name': ['a'], 'IRCS_History_From': ['NA'], 'IRCS_History_To': ['2021-07-05'], 'IRCS_History_IRCS': ['3X07QMC'], 'National_Reg_No_From': ['NA'], 'National_Reg_No_To': ['2021-07-05'], 'National_Reg_No_Reg.No': ['002/DNMM/2003'], 'Owner_History_From': ['2005-03-21', '1998-06', 'NA', '1997', 'NA'], 'Owner_History_To': ['NA', 'NA', '1998-06', '1998-05', '1997'], 'Owner_History_Owner': ['SIPEM GUINEE SARL-PESQ.SAO TOME (ALPHA CAMARA)', 'Pesqueira Sao Tome Lda', 'Alpha Camara', 'Avatar Trading Inc', 'Sam Young Fisheries Co Ltd'], 'Operator_History_From': ['NA'], 'Operator_History_To': ['NA'], 'Operator_History_Operator': ['Pesqueira Sao Tome Lda'], 'Name_History_From': ['2008', '2003-10', '1997', '1984', '1973', 'NA'], 'Name_History_To': ['NA', '2008', '2003-10', '1997', '1983', '1984'], 'Name_History_Name': ['CARLOS', 'DANIAA', 'ATLANTA 3', 'SUN NO. 702', 'RYOEI MARU NO. 32', 'FUKUJU MARU NO. 17'], 'Flag_History_From': ['1998-06', '1997', '1980', 'NA'], 'Flag_History_To': ['2020-06', '1998-05', '1997', '1998-06'], 'Flag_History_Flag': ['Guinea', 'Honduras', 'Panama', 'Sao Tome and Principe']}\n",
      "File generated successfully\n"
     ]
    }
   ],
   "source": [
    "data = (\n",
    "    {\"name\" : \"a\",\n",
    "        \"IRCS_History_From\": [\"NA\"], \n",
    "     \"IRCS_History_To\": [\"2021-07-05\"], \n",
    "     \"IRCS_History_IRCS\": [\"3X07QMC\"], \n",
    "     \"National_Reg_No_From\": [\"NA\"], \n",
    "     \"National_Reg_No_To\": [\"2021-07-05\"], \n",
    "     \"National_Reg_No_Reg.No\": [\"002/DNMM/2003\"], \n",
    "     \"Owner_History_From\": [\"2005-03-21\", \"1998-06\", \"NA\", \"1997\", \"NA\"], \n",
    "     \"Owner_History_To\": [\"NA\", \"NA\", \"1998-06\", \"1998-05\", \"1997\"], \n",
    "     \"Owner_History_Owner\": [\"SIPEM GUINEE SARL-PESQ.SAO TOME (ALPHA CAMARA)\", \"Pesqueira Sao Tome Lda\", \"Alpha Camara\", \"Avatar Trading Inc\", \"Sam Young Fisheries Co Ltd\"],\n",
    "     \"Operator_History_From\": [\"NA\"], \n",
    "     \"Operator_History_To\": [\"NA\"], \n",
    "     \"Operator_History_Operator\": [\"Pesqueira Sao Tome Lda\"], \n",
    "     \"Name_History_From\": [\"2008\", \"2003-10\", \"1997\", \"1984\", \"1973\", \"NA\"], \n",
    "     \"Name_History_To\": [\"NA\", \"2008\", \"2003-10\", \"1997\", \"1983\", \"1984\"], \n",
    "     \"Name_History_Name\": [\"CARLOS\", \"DANIAA\", \"ATLANTA 3\", \"SUN NO. 702\", \"RYOEI MARU NO. 32\", \"FUKUJU MARU NO. 17\"], \n",
    "     \"Flag_History_From\": [\"1998-06\", \"1997\", \"1980\", \"NA\"], \n",
    "     \"Flag_History_To\": [\"2020-06\", \"1998-05\", \"1997\", \"1998-06\"], \n",
    "     \"Flag_History_Flag\": [\"Guinea\", \"Honduras\", \"Panama\", \"Sao Tome and Principe\"]}\n",
    ")\n",
    "\n",
    "# # Find the maximum length among all arrays\n",
    "# max_length = max(len(v) for v in data.values())\n",
    "# print(max_length)\n",
    "# # Pad shorter lists with NaN to match the maximum length\n",
    "# for key in data:\n",
    "#     data[key] += [np.nan] * (max_length - len(data[key]))\n",
    "\n",
    "# # Create DataFrame\n",
    "# df = pd.DataFrame(data)\n",
    "# df.fillna(\"NA\", inplace=True)\n",
    "# df.to_excel(\"hey.xlsx\", index=False)\n",
    "# print(\"file generated successfully\")\n",
    "\n",
    "# Ensure all values in the dictionary are lists\n",
    "for key in data:\n",
    "    if not isinstance(data[key], list):\n",
    "        data[key] = [data[key]]  # Convert non-list values to single-item lists\n",
    "print(data)\n",
    "# Find the maximum length among all arrays\n",
    "max_length = max(len(v) for v in data.values())\n",
    "\n",
    "# Pad shorter lists with NaN to match the maximum length\n",
    "for key in data:\n",
    "    data[key] += [np.nan] * (max_length - len(data[key]))\n",
    "\n",
    "# Create DataFrame\n",
    "df = pd.DataFrame(data)\n",
    "df.fillna(\"NA\", inplace=True)\n",
    "\n",
    "# Export to Excel\n",
    "df.to_excel(\"hey.xlsx\", index=False)\n",
    "print(\"File generated successfully\")\n"
   ]
  },
  {
   "cell_type": "code",
   "execution_count": null,
   "id": "a3e51ea6-0d59-4fad-b12f-f7766a9fb5bc",
   "metadata": {},
   "outputs": [],
   "source": []
  }
 ],
 "metadata": {
  "kernelspec": {
   "display_name": "Python 3 (ipykernel)",
   "language": "python",
   "name": "python3"
  },
  "language_info": {
   "codemirror_mode": {
    "name": "ipython",
    "version": 3
   },
   "file_extension": ".py",
   "mimetype": "text/x-python",
   "name": "python",
   "nbconvert_exporter": "python",
   "pygments_lexer": "ipython3",
   "version": "3.10.0"
  }
 },
 "nbformat": 4,
 "nbformat_minor": 5
}
