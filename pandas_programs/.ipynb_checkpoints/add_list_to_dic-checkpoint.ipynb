{
 "cells": [
  {
   "cell_type": "code",
   "execution_count": 1,
   "id": "0d47b232-468f-4e19-9916-cd494856547b",
   "metadata": {},
   "outputs": [],
   "source": [
    "import pandas as pd\n",
    "import numpy as np"
   ]
  },
  {
   "cell_type": "code",
   "execution_count": 13,
   "id": "35c67155-0590-498c-b7b4-11af1a5baf58",
   "metadata": {},
   "outputs": [
    {
     "name": "stdout",
     "output_type": "stream",
     "text": [
      "{'name': ['1', '4', '7'], 'age': ['2', '5', '8'], 'value': ['3', '6', '0']}\n"
     ]
    }
   ],
   "source": [
    "data = {}\n",
    "header = [\"name\", \"age\", \"value\"]\n",
    "lt = [[\"1\", \"2\",\"3\"],[\"4\", \"5\",\"6\"],[\"7\", \"8\", \"0\"]]\n",
    "for a in range(len(header)):\n",
    "    tp = []\n",
    "    for i in lt:\n",
    "        tp.append(i[a])\n",
    "    data[header[a]] = tp\n",
    "print(data)"
   ]
  },
  {
   "cell_type": "code",
   "execution_count": null,
   "id": "eb99bcd5-c760-45bc-af2b-b5b3ef2a3792",
   "metadata": {},
   "outputs": [],
   "source": []
  }
 ],
 "metadata": {
  "kernelspec": {
   "display_name": "Python 3 (ipykernel)",
   "language": "python",
   "name": "python3"
  },
  "language_info": {
   "codemirror_mode": {
    "name": "ipython",
    "version": 3
   },
   "file_extension": ".py",
   "mimetype": "text/x-python",
   "name": "python",
   "nbconvert_exporter": "python",
   "pygments_lexer": "ipython3",
   "version": "3.10.0"
  }
 },
 "nbformat": 4,
 "nbformat_minor": 5
}
