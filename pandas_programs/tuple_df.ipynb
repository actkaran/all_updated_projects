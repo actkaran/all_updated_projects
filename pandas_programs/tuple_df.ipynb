{
 "cells": [
  {
   "cell_type": "code",
   "execution_count": 1,
   "id": "1a77f5df-d58a-4c81-b495-6a412e079220",
   "metadata": {},
   "outputs": [],
   "source": [
    "import pandas as pd"
   ]
  },
  {
   "cell_type": "code",
   "execution_count": 5,
   "id": "2731ba40-b057-4e73-9e7e-479d85e35cd8",
   "metadata": {},
   "outputs": [
    {
     "name": "stdout",
     "output_type": "stream",
     "text": [
      "                                           rfmo_link   RFMO RFMO_Status  \\\n",
      "0                 https://www.nafo.int/Fisheries/IUU   NAFO  IUU Listed   \n",
      "1                                                     CCSBT  IUU Listed   \n",
      "2                        http://iotc.org/vessels#iuu   IOTC  IUU Listed   \n",
      "3                  https://siofa.org/mcs/iuu-vessels  SIOFA  IUU Listed   \n",
      "4  http://www.fao.org/gfcm/data/fleet-iuu-vessel-...   GFCM  IUU Listed   \n",
      "5                        http://iccat.int/en/IUU.asp  ICCAT  IUU Listed   \n",
      "6                       http://www.neafc.org/mcs/iuu  NEAFC  IUU Listed   \n",
      "\n",
      "  RFMO_Date_listed                                     RFMO_Reason  \\\n",
      "0       2023-10-11                                   Cross-listing   \n",
      "1       2020-02-26                                   Cross-listing   \n",
      "2          2019-12                                   Cross-listing   \n",
      "3             2019                                   Cross-listing   \n",
      "4          2014-05                                              NA   \n",
      "5       2008-11-24  Bluefin tuna caught and exported without quota   \n",
      "6             2008                                              NA   \n",
      "\n",
      "  RFMO_Delisted RFMO_Delisted_Reason  \n",
      "0            NA                   NA  \n",
      "1            NA                   NA  \n",
      "2            NA                   NA  \n",
      "3            NA                   NA  \n",
      "4            NA                   NA  \n",
      "5            NA                   NA  \n",
      "6            NA                   NA  \n"
     ]
    }
   ],
   "source": [
    "data = {'rfmo_link': ('https://www.nafo.int/Fisheries/IUU', '', 'http://iotc.org/vessels#iuu', 'https://siofa.org/mcs/iuu-vessels', 'http://www.fao.org/gfcm/data/fleet-iuu-vessel-list/en/', 'http://iccat.int/en/IUU.asp', 'http://www.neafc.org/mcs/iuu'), 'RFMO': ('NAFO', 'CCSBT', 'IOTC', 'SIOFA', 'GFCM', 'ICCAT', 'NEAFC'), 'RFMO_Status': ('IUU Listed', 'IUU Listed', 'IUU Listed', 'IUU Listed', 'IUU Listed', 'IUU Listed', 'IUU Listed'), 'RFMO_Date_listed': ('2023-10-11', '2020-02-26', '2019-12', '2019', '2014-05', '2008-11-24', '2008'), 'RFMO_Reason': ('Cross-listing', 'Cross-listing', 'Cross-listing', 'Cross-listing', 'NA', 'Bluefin tuna caught and exported without quota', 'NA'), 'RFMO_Delisted': ('NA', 'NA', 'NA', 'NA', 'NA', 'NA', 'NA'), 'RFMO_Delisted_Reason': ('NA', 'NA', 'NA', 'NA', 'NA', 'NA', 'NA')}\n",
    "data2= {'rfmo_link': ['https://www.nafo.int/Fisheries/IUU', '', 'http://iotc.org/vessels#iuu', 'https://siofa.org/mcs/iuu-vessels', 'http://www.fao.org/gfcm/data/fleet-iuu-vessel-list/en/', 'http://iccat.int/en/IUU.asp', 'http://www.neafc.org/mcs/iuu'], 'RFMO': ['NAFO', 'CCSBT', 'IOTC', 'SIOFA', 'GFCM', 'ICCAT', 'NEAFC'], 'RFMO_Status': ['IUU Listed', 'IUU Listed', 'IUU Listed', 'IUU Listed', 'IUU Listed', 'IUU Listed', 'IUU Listed'], 'RFMO_Date_listed': ['2023-10-11', '2020-02-26', '2019-12', '2019', '2014-05', '2008-11-24', '2008'], 'RFMO_Reason': ['Cross-listing', 'Cross-listing', 'Cross-listing', 'Cross-listing', 'NA', 'Bluefin tuna caught and exported without quota', 'NA'], 'RFMO_Delisted': ['NA', 'NA', 'NA', 'NA', 'NA', 'NA', 'NA'], 'RFMO_Delisted_Reason': ['NA', 'NA', 'NA', 'NA', 'NA', 'NA', 'NA']}\n",
    "\n",
    "\n",
    "df = pd.DataFrame(data2)\n",
    "print(df)"
   ]
  },
  {
   "cell_type": "code",
   "execution_count": null,
   "id": "d12f235b-3d3a-46a2-9e4e-e68997186911",
   "metadata": {},
   "outputs": [],
   "source": []
  }
 ],
 "metadata": {
  "kernelspec": {
   "display_name": "Python 3 (ipykernel)",
   "language": "python",
   "name": "python3"
  },
  "language_info": {
   "codemirror_mode": {
    "name": "ipython",
    "version": 3
   },
   "file_extension": ".py",
   "mimetype": "text/x-python",
   "name": "python",
   "nbconvert_exporter": "python",
   "pygments_lexer": "ipython3",
   "version": "3.10.0"
  }
 },
 "nbformat": 4,
 "nbformat_minor": 5
}
